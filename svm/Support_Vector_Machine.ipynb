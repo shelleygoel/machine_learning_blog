{
 "cells": [
  {
   "cell_type": "markdown",
   "metadata": {},
   "source": [
    "## Objective\n",
    "\n",
    "This a beginner's guide to SVM. Our goals are to understand\n",
    "\n",
    "- When do we need to use Support Vector Machines?\n",
    "- How to derive a Linear SVM model? What does Support Vectors mean?\n",
    "- How to implement it in Python?\n",
    "- How to deal with data which is not 'linearly seperabale' with Kernel Trick?\n",
    "- What are the advantages of SVM over Decision Trees and Logistic Regression?\n",
    "- What are it's limitations ?\n",
    "\n",
    "## Data\n",
    "\n",
    "To explore SVM model we will look at a [diagnostic dataset for breast cancer ](https://archive.ics.uci.edu/ml/datasets/Breast+Cancer+Wisconsin+%28Diagnostic%29).\n",
    "\n",
    "*You don't need to understand the data to learn basics of SVM. Think of the columns(features) as real numbers which have some correlation with the target class i.e. diagnosis*. However if you want to build a robust real world model, understanding your features is a key skill. \n",
    "\n",
    " - ### Domain Background ([more info](http://dollar.biz.uiowa.edu/~street/research/hu_path95/hp95.pdf))\n",
    "   This dataset was constructed by analzying images of breast masses of people 569 patients: 212 with cancer and 357 without cancer. Each data point corresponds to a patient and contains geometric properties of the tumor and the diagnosis. These  properties are modelled such that higher values are typically associated with malignant tumours.\n",
    "   \n",
    "   Diagnosis for the patients had been confirmed by additional surgical/lab procedures. **Our goal is to build a computer algorithm which can succesfully diagnose any patients in future, so as to (ideally)eliminate the need for expensive diagnostic proceedures.**\n",
    "   \n",
    "   *If you are curious, here are further details on how the data is obtained:* \n",
    "   \n",
    "   *Images of fibrocystic breast masses are obtained using fine needle aspiration(FNA). Each patient has one FNA image. Each FNA image has several nuclei. Structural properties of each nuclei are calculated by a combination human observation and computer calculations. Nuclear size is given by radius and area. Shape is expressed by smoothness , concavity , compactness, concave points, symmetry and fractal dimension features. Both size and shape are expressed by perimeter. Nuclear texture is measured by finding the variance of gray scale intensities in pixels. The average, standard deviation and average of three worst values over all the nuclei for each feature is obtained. This gives 30 features for each patient.*\n",
    "\n",
    "\n",
    " - ### Description\n",
    "   \n",
    "   Here we will only look at the following columns of the data:\n",
    "   \n",
    "   - `patient_id` unique to a patient (integer valued) \n",
    "   - `diagnosis`  'M' for malignant and 'B' for benign\n",
    "   - `radius_avg` average of radius of tumor (real valued)\n",
    "   - `texture_avg` average of texture (real valued)\n",
    "   - `permiter_avg` average of tumor perimeter (real valued)\n",
    "   - `area_avg` average of tumor area\n",
    "   - `smoothness_avg` average local variations in radius lengths\n",
    "   - `compactness_avg` average(perimeter^2/area-1.0)\n",
    "   - `concavity_avg` average severity of concave portions of the contour of tumor\n",
    "   - `concave_points_avg` average number of concave portions of the contour\n",
    "   - `symmetry_avg` average symmetry \n",
    "   - `fractal_dim_avg` average of fractal dimension (\"coastline approximation\" - 1)\n",
    "   \n",
    "\n"
   ]
  },
  {
   "cell_type": "code",
   "execution_count": 35,
   "metadata": {
    "collapsed": false
   },
   "outputs": [
    {
     "name": "stdout",
     "output_type": "stream",
     "text": [
      "         ID diagnosis  radius_avg  texture_avg  perimeter_avg  area_avg  \\\n",
      "0    842517         M       20.57        17.77         132.90    1326.0   \n",
      "1  84300903         M       19.69        21.25         130.00    1203.0   \n",
      "2  84348301         M       11.42        20.38          77.58     386.1   \n",
      "3  84358402         M       20.29        14.34         135.10    1297.0   \n",
      "4    843786         M       12.45        15.70          82.57     477.1   \n",
      "\n",
      "   smoothness_avg  compactness_avg  concavity_avg  concave_points_avg  \\\n",
      "0         0.08474          0.07864         0.0869             0.07017   \n",
      "1         0.10960          0.15990         0.1974             0.12790   \n",
      "2         0.14250          0.28390         0.2414             0.10520   \n",
      "3         0.10030          0.13280         0.1980             0.10430   \n",
      "4         0.12780          0.17000         0.1578             0.08089   \n",
      "\n",
      "   symmetry_avg  fractal_dim_avg  \n",
      "0        0.1812          0.05667  \n",
      "1        0.2069          0.05999  \n",
      "2        0.2597          0.09744  \n",
      "3        0.1809          0.05883  \n",
      "4        0.2087          0.07613  \n"
     ]
    }
   ],
   "source": [
    "import pandas as pd\n",
    "\n",
    "# import data \n",
    "bc_data = pd.read_csv(\"wdbc.csv\")\n",
    "print(bc_data.head())\n",
    "\n",
    "# converting diagnosis to integer value for easier math\n",
    "bc_data['diagnosis'] = bc_data['diagnosis'].replace(['M', 'B'], [1,-1])\n",
    "\n",
    "# some data cleaning to make it an ideal candidate for a Linear SVM model.\n",
    "bc_data = bc_data[(bc_data['radius_avg'] < 12) | (bc_data['radius_avg'] > 15)]\n",
    "\n",
    "# dividing into two datasets for plotting purposes\n",
    "malignant = bc_data[bc_data['diagnosis']==1 ]\n",
    "benign = bc_data[bc_data['diagnosis'] == -1]"
   ]
  },
  {
   "cell_type": "markdown",
   "metadata": {},
   "source": [
    "## When do we need SVM?"
   ]
  },
  {
   "cell_type": "code",
   "execution_count": 36,
   "metadata": {
    "collapsed": false
   },
   "outputs": [
    {
     "data": {
      "text/plain": [
       "<matplotlib.legend.Legend at 0x7f1ac6a51550>"
      ]
     },
     "execution_count": 36,
     "metadata": {},
     "output_type": "execute_result"
    },
    {
     "data": {
      "image/png": "[encoded data removed]",
      "text/plain": [
       "<matplotlib.figure.Figure at 0x7f1ac6aaf048>"
      ]
     },
     "metadata": {},
     "output_type": "display_data"
    }
   ],
   "source": [
    "import matplotlib.pyplot as plt\n",
    "%matplotlib inline\n",
    "plt.rc('font', size=14)\n",
    "plt.scatter(malignant['radius_avg'], malignant['texture_avg'],\\\n",
    "            color='r', label='malignant')\n",
    "plt.scatter(benign['radius_avg'], benign['texture_avg'], \n",
    "            color='b', label='benign')\n",
    "plt.xlabel('Radius')\n",
    "plt.ylabel('Texture')\n",
    "plt.legend(loc=(0.56,0))"
   ]
  },
  {
   "cell_type": "markdown",
   "metadata": {
    "collapsed": true
   },
   "source": [
    "As you can see from above figure, this data has a complex structure. It can be very hard to come up with a hypothesis which approximates the structure of such data (like we do in linear regression, where we assume data is linear with some noise added). Support Vector machines on the other hand pay little attention to the underlying structure. The aim here is to divided the domain of (radius, texture) into regions which contain only malignant or benign tumors. "
   ]
  },
  {
   "cell_type": "markdown",
   "metadata": {},
   "source": [
    "## How to derive a Linear SVM?\n",
    "\n",
    "From above figure, notice that malignant and benign classes can be seperated easily by a line across the domain. Let's consider three lines $L_1, L_2 , L_3$. Which line would you pick?"
   ]
  },
  {
   "cell_type": "code",
   "execution_count": 37,
   "metadata": {
    "collapsed": false
   },
   "outputs": [
    {
     "data": {
      "text/plain": [
       "<matplotlib.legend.Legend at 0x7f1ac69d90b8>"
      ]
     },
     "execution_count": 37,
     "metadata": {},
     "output_type": "execute_result"
    },
    {
     "data": {
      "image/png": "[encoded data removed]",
      "text/plain": [
       "<matplotlib.figure.Figure at 0x7f1ac6a0db70>"
      ]
     },
     "metadata": {},
     "output_type": "display_data"
    }
   ],
   "source": [
    "## Ignore this block of code.##\n",
    "\n",
    "plt.scatter(malignant['radius_avg'], malignant['texture_avg'],\\\n",
    "            color='r', label='malignant')\n",
    "plt.scatter(benign['radius_avg'], benign['texture_avg'], \n",
    "            color='b', label='benign')\n",
    "# some rough manual math to get points to draw lines\n",
    "rad1 = benign[benign['radius_avg'] < 12]['radius_avg'].idxmax()\n",
    "\n",
    "\n",
    "# Points for Line 1 \n",
    "p1 = benign[['radius_avg', 'texture_avg']].loc[rad1].tolist()\n",
    "p2 = benign[['radius_avg', 'texture_avg']].loc[rad1].tolist()\n",
    "p1[0] = p1[0] - 0.1\n",
    "p1[1] = p1[1] + 15\n",
    "p2[0] = p2[0] + 0.3\n",
    "p2[1] = 5\n",
    "\n",
    "plt.plot([p1[0], p2[0]], [p1[1],p2[1]],\\\n",
    "         linewidth=1.5, label=r'$L_1$')\n",
    "plt.xlabel('Radius')\n",
    "plt.ylabel('Texture')\n",
    "\n",
    "\n",
    "\n",
    "# Points for Line 2\n",
    "rad2 = malignant[malignant['radius_avg'] > 12]['radius_avg'].idxmin()\n",
    "q1 = malignant[['radius_avg', 'texture_avg']].loc[rad2].tolist()\n",
    "q2 = malignant[['radius_avg', 'texture_avg']].loc[rad2].tolist()\n",
    "q1[0] = q1[0] + 0.1\n",
    "q1[1] = q1[1] + 22\n",
    "q2[0] = q2[0] - 0.5\n",
    "q2[1] = 5\n",
    "plt.plot([q1[0], q2[0]], [q1[1],q2[1]], color='r',\\\n",
    "         linewidth=1.5, label=r'$L_2$')\n",
    "\n",
    "# Points for Line 3\n",
    "s1 = [(p1[0]+q1[0])/2, p1[1]]\n",
    "s2 = [(p2[0]+q2[0])/2, p2[1]]\n",
    "plt.plot([s1[0], s2[0]], [s1[1],s2[1]],color='k',\\\n",
    "         linewidth=1.5, label=r\"$L_3$\")\n",
    "\n",
    "plt.xlim([8,20])\n",
    "plt.ylim([5,40])\n",
    "plt.legend(loc=(1,0))\n"
   ]
  },
  {
   "cell_type": "markdown",
   "metadata": {},
   "source": [
    "Suppose we pick Line $L_1$ to be our classifier line. Then all points to the right of $L_1$ will be classified as malignant and all point to the left will be benign. (*Note there are few points to the left and right of $L_1$ which will be misclassified, but these are very few and we will come back to them later.*). So $L_1$ does a great job of classifying the given dataset correctly. Same goes for $L_2$ and $L_3$.\n",
    "\n",
    "But how well will these classifiers perform on unseen data? Afterall the goal here is to diagnose unclassified points. Suppose we choose to go with $L_1$. Now have to predict tumor with features $d_1$. (TODO:Insert figure here). $L_1$ will classify $d_1 = (12.5, 12.5)$ as malignant. But if we look at the figure, it's features are much closer to benign points. Similar argument can be made that $L_2$ will incorrectly classify $d_2 = (15,22.5)$  as benign. \n",
    "\n",
    "So even though both $L_1$ and $L_2$ have negligible error on training data, they generalize poorly to unseen data (i.e. have high error on testing data). \n",
    "\n",
    "What about $L_3$? It will correctly classify $d_1$ as benign and $d_2$ as malignant. Do you expect it's testing error to be higher or lower than $L_1$? \n",
    "\n",
    "What makes $L_3$ so special? Hint: Empty space on both sides.\n",
    "\n",
    "### How do we find $L_3$\n",
    "\n",
    "  We want $L_3$ to be as far away from data on both sides as possible.  All points below $L_3$ will be classified as benign(-1) and all points above will be classified as malignant(1). Since $L_3$ is the boundary, all points on it will be classified as unknown (let's label it as $0$)\n",
    "  \n",
    "  Let's denote radius by variable $x_r$ and texture by variable $x_t$. Then equation of $L_3$ can be written as $ x_t = mx_r + b$. Since both $x_r$ and $x_t$ are 'independent' variables in our problem (dependent variable is the diagnosis), let's make our equation more general by multiplying both sides by $w_t$ to get $ w_tx_t - w_tmx_r - w_tb = 0$. Substitute $w_r = -w_tm$ and $b' = w_tb$,  to get $w_tx_t + w_rx_r - b'=0$.\n",
    "  \n",
    "  Let's write this in vector form to generalize this equation to multiple features, take vector of weights $\\mathbf{w} = \\begin{bmatrix} w_t\\\\ w_r \\end{bmatrix}$, vector of features \n",
    "  $\\mathbf{x} = \\begin{bmatrix} x_t\\\\ x_r\\end{bmatrix}$. Then above equation can be written as \n",
    "  \n",
    "  $$L_3: \\mathbf{w}^T\\mathbf{x} - b' = 0$$\n",
    "  \n",
    " TODO: Insert a figure explaining projections.\n",
    "  \n",
    "### Equations for $L_1$ and $L_2$\n",
    "\n",
    "  Since we don't have any other information in the middle region, so we just say $L_3$ divides the empty region in equal halves, i.e. both $L_1$ and $L_2$ are parallel and at equal distances from $L_3$.\n",
    "  \n",
    "  We can get $L_2$ by moving $L3$ in the direction of positive $\\mathbf{w}$ by a distance $\\delta$. Similarly move $L_3$ in direction of $-\\mathbf{w}$ by $\\delta$ to get $L_2$.\n",
    "  \n",
    "  So equations are\n",
    "  \n",
    "  $$\n",
    "  L_2: \\mathbf{w}^T\\mathbf{x} - b' = \\delta,\\\\\n",
    "  L_1: \\mathbf{w}^T\\mathbf{x} - b' = -\\delta\n",
    "  $$\n",
    "  \n",
    "  Now we need to include information about the diagonsis in the equation order to make any predictions. From our earlier discussion , all points $\\mathbf{x}$ lying on or below the line $L_1$ should be predicted as benign (which were denoting numerically as -1). So without loss of generality we can chose $\\delta = 1$(this way we will have to worry about one less variable). Now if a point satisfies the relation $\\mathbf{w}^T\\mathbf{x} - b' \\leq -1$, it will be classified as benign.\n",
    " \n",
    " Similarly all points which satisfy the relation $\\mathbf{w}^T\\mathbf{x} - b' \\geq 1$, will be classified as malignant.\n",
    "\n",
    "In conclusion, we have following equations:\n",
    "\n",
    "  $$\n",
    "  L_2: \\mathbf{w}^T\\mathbf{x} - b' = 1,\\\\\n",
    "  L_1: \\mathbf{w}^T\\mathbf{x} - b' = -1\n",
    "  $$\n",
    "\n",
    "### How to find $\\mathbf{w}$ and $b'$ ?\n",
    "   \n",
    "  Remember that we need to maximize the distance between $L_1$ and $L_2$, to minimize generalization error. First let's find the distance between $L_1$ and $L_2$ in terms of $\\mathbf{w}$ and $b'$. \n",
    "  \n",
    "  Consider two points $\\mathbf{x_1}$ on $L_1$ and $\\mathbf{x_2}$ on $L_2$. We have to find $\\|\\mathbf{x_1} - \\mathbf{x_2}\\|$ (here $\\|...\\|$ gives the magnitude of the vector). They will satisfy the following equations\n",
    "  \n",
    "   $$\n",
    "  L_2: \\mathbf{w}^T\\mathbf{x_2} - b' = 1,\\\\\n",
    "  L_1: \\mathbf{w}^T\\mathbf{x_1} - b' = -1\n",
    "  $$\n",
    "  \n",
    "  Subtract second equation from first to get \n",
    "  \n",
    "  $$ \\mathbf{w}^T\\mathbf{x_2} - \\mathbf{w}^T\\mathbf{x_1} = 2,\\\\\n",
    "  \\implies \\mathbf{w}^T(\\mathbf{x_2} - \\mathbf{x_1}) = 2, \\\\\n",
    "  \\implies \\|\\mathbf{w}^T(\\mathbf{x_2} - \\mathbf{x_1})\\| = 2,\\\\\n",
    "  \\implies \\|\\mathbf{w}\\|\\|\\mathbf{x_2} - \\mathbf{x_1}\\| \\leq \\|\\mathbf{w}^T(\\mathbf{x_2} - \\mathbf{x_1})\\| = 2,\\\\\n",
    "  \\implies \\|\\mathbf{x_2} - \\mathbf{x_1}\\| \\leq \\dfrac{2}{\\|\\mathbf{w}\\|}\n",
    "  $$\n",
    "  \n",
    "  TODO: Add figure which shows the distance between x1 and x2 in direction of w is 2/||w||\n",
    "  \n",
    "  Our goal is to maximize $\\|\\mathbf{x_2} - \\mathbf{x_1}\\|$ which implies maximizing $\\dfrac{2}{\\|\\mathbf{w}\\|}$ , which implies minimizing $\\|\\mathbf{w}\\|$. Also we want to classify everything correctly. \n",
    "  \n",
    "  **TL;DR** So to summarize, our problem for finding linear seperator is to find $L_3$, which in turn can be found by finding $L_2$ and $L_1$, which are described by $\\mathbf{w}$ and $b'$. All points on and below $L_1$ are classified as benign(-1).  All points on and above $L_3$ are classified as malignant(+1). $L_2$ and $L_1$ should be as far apart as possible.  So to find them, we have to maximize the distance between them $i.e. \\dfrac{2}{\\|\\mathbf{w}\\|}$, which is equivalent to minimizing $\\frac{1}{2}\\|\\mathbf{w}\\|^2$.\n",
    "  \n",
    "  \n",
    "  $$ \n",
    "     \\operatorname*{arg\\,min}_{\\mathbf{w}}\\|\\mathbf{w}\\|,\\\\ \n",
    "     s.t.\n",
    "     \\;\\mathbf{w}^T\\mathbf{x_m} - b' \\geq 1,\\;\\; \\forall\\; \\mathbf{x_m},\\\\\n",
    "     \\;\\;\\;\\;\\mathbf{w}^T\\mathbf{x_b} - b' \\leq -1,\\;\\; \\forall\\; \\mathbf{x_b},\n",
    "     (TODO: Rewrite it in one equation)\n",
    "  $$\n",
    "  \n",
    "  where $\\mathbf{x_m}$ all points in the given dataset which are malignant and $\\mathbf{x_b}$ all benign points. \n",
    "  \n",
    "  This optimization problem is solved using quadratic programming. It is equivalent to the following problem. \n",
    "  \n",
    "  \n",
    "  Reformulate the problem in terms of support vectors !!"
   ]
  },
  {
   "cell_type": "markdown",
   "metadata": {
    "collapsed": true
   },
   "source": [
    "## How to implement in Python?\n",
    "\n",
    "Python has inbuilt [`svm`](http://scikit-learn.org/stable/modules/svm.html) library which supports all kinds of SVM based classification and regression. Before doing any kind of machine learning it's is extremely important to split the data into training and testing set. We find the SVM seperator using training data. Then use testing data as example of unseen data to evalute how well the model will generalize. This prevents overfitting to the given data. \n",
    "Here we will use a simple split, to focus on SVM. But if you are new to data science, you should read about overfitting and cross-validation. "
   ]
  },
  {
   "cell_type": "code",
   "execution_count": 32,
   "metadata": {
    "collapsed": false
   },
   "outputs": [
    {
     "name": "stdout",
     "output_type": "stream",
     "text": [
      "0.514705882353\n",
      "0.507246376812\n"
     ]
    }
   ],
   "source": [
    "# Splitting data into testing and training sets\n",
    "from sklearn.cross_validation import train_test_split\n",
    "features = bc_data.drop(['ID', 'diagnosis'], axis=1)\n",
    "labels = bc_data['diagnosis']\n",
    "\n",
    "# Using stratified sample ensures training and testing data will have \n",
    "## nearly equal percentage of both labels. This is specially important \n",
    "## when you have unbalanced data. Fix random_state to make results reproducible\n",
    "features_train, features_test, labels_train, labels_test =\\\n",
    "                                    train_test_split(features,labels,\\\n",
    "                                                     test_size=0.2,\\\n",
    "                                                     stratify=labels,\\\n",
    "                                                     random_state=42)\n",
    "# checking if training and testing have same % of labels\n",
    "print(sum(labels_train==-1)/float(len(labels_train)))\n",
    "print(sum(labels_test==-1)/float(len(labels_test)))"
   ]
  },
  {
   "cell_type": "code",
   "execution_count": 44,
   "metadata": {
    "collapsed": false
   },
   "outputs": [
    {
     "data": {
      "text/plain": [
       "SVC(C=1.0, cache_size=200, class_weight=None, coef0=0.0,\n",
       "  decision_function_shape=None, degree=3, gamma='auto', kernel='linear',\n",
       "  max_iter=-1, probability=False, random_state=42, shrinking=True,\n",
       "  tol=0.001, verbose=False)"
      ]
     },
     "execution_count": 44,
     "metadata": {},
     "output_type": "execute_result"
    }
   ],
   "source": [
    "# Classification\n",
    "from sklearn import svm\n",
    "\n",
    "clf = svm.SVC(kernel='linear', random_state=42) # simple linear classifier\n",
    "clf.fit(features_train[['texture_avg', 'radius_avg']], labels_train)\n",
    "\n",
    "# Draw SVM boundary\n"
   ]
  },
  {
   "cell_type": "code",
   "execution_count": 29,
   "metadata": {
    "collapsed": false
   },
   "outputs": [
    {
     "data": {
      "text/plain": [
       "(69,)"
      ]
     },
     "execution_count": 29,
     "metadata": {},
     "output_type": "execute_result"
    }
   ],
   "source": [
    "labels_train.shape\n",
    "labels_test.shape"
   ]
  },
  {
   "cell_type": "code",
   "execution_count": null,
   "metadata": {
    "collapsed": true
   },
   "outputs": [],
   "source": [
    " "
   ]
  }
 ],
 "metadata": {
  "kernelspec": {
   "display_name": "Python 3",
   "language": "python",
   "name": "python3"
  },
  "language_info": {
   "codemirror_mode": {
    "name": "ipython",
    "version": 3
   },
   "file_extension": ".py",
   "mimetype": "text/x-python",
   "name": "python",
   "nbconvert_exporter": "python",
   "pygments_lexer": "ipython3",
   "version": "3.4.3"
  }
 },
 "nbformat": 4,
 "nbformat_minor": 0
}
